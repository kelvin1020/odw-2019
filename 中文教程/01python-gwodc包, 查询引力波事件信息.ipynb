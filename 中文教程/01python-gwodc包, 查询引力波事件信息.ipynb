{
 "cells": [
  {
   "cell_type": "markdown",
   "metadata": {},
   "source": [
    "# gwosc模块\n",
    "\n",
    "`gwosc`是一个用于查询引力波数据信息的python包"
   ]
  },
  {
   "cell_type": "markdown",
   "metadata": {
    "heading_collapsed": true
   },
   "source": [
    "## gwosc.datasets\n",
    "`gwosc.datasets` 模块提供搜寻数据集，gps时间返回等功能"
   ]
  },
  {
   "cell_type": "markdown",
   "metadata": {
    "heading_collapsed": true,
    "hidden": true
   },
   "source": [
    "### gwosc.datasets.find_datasets \n",
    "\n",
    "`gwosc.datasets.find_datasets` 提供寻找LIGO-virgo数据集的功能，还可以利用GPS时间、正则表达式进行筛选。可以进行引力波事件查询"
   ]
  },
  {
   "cell_type": "markdown",
   "metadata": {
    "hidden": true
   },
   "source": [
    "**说明**\n",
    "\n",
    "```python\n",
    "find_datasets(detector=None, type=None, segment=None, match=None, host='https://www.gw-openscience.org')\n",
    "    Find datasets available on the given GW open science host\n",
    "    \n",
    "Parameters\n",
    "----------\n",
    "detector : `str`, optional\n",
    "    prefix of GW detector\n",
    "\n",
    "type : `str`, optional\n",
    "    type of datasets to restrict, one of ``'run'``, ``'event'``, or\n",
    "    ``'catalog'``\n",
    "\n",
    "segment : 2-`tuple` of `int`, `None`, optional\n",
    "    a GPS ``[start, stop)`` interval to restrict matches to;\n",
    "    datasets will match if they overlap at any point\n",
    "\n",
    "match : `str`, optional\n",
    "    regular expression string against which to match datasets\n",
    "\n",
    "host : `str`, optional\n",
    "    the URL of the LOSC host to query, defaults to losc.ligo.org\n",
    "\n",
    "Returns\n",
    "-------\n",
    "datasets : `list` of `str`\n",
    "    the names of all matched datasets, possibly empty\n",
    "\n",
    "```"
   ]
  },
  {
   "cell_type": "markdown",
   "metadata": {
    "hidden": true,
    "hide_input": false
   },
   "source": [
    "#### 例子"
   ]
  },
  {
   "cell_type": "markdown",
   "metadata": {
    "hidden": true,
    "hide_input": false
   },
   "source": [
    "例如，我们可以寻找哪些数据集是可用的。在O2运行过程中，一共有25个事件数据集可用。11个是确定事件(前缀为gw), 其他的是边缘事件，可以参考[GWTC-1](https://www.gw-openscience.org/GWTC-1/). "
   ]
  },
  {
   "cell_type": "code",
   "execution_count": 39,
   "metadata": {
    "hidden": true
   },
   "outputs": [
    {
     "name": "stdout",
     "output_type": "stream",
     "text": [
      "['151008', '151012A', '151116', '161202', '161217', '170208', '170219', '170405', '170412', '170423', '170616', '170630', '170705', '170720', 'GW150914', 'GW151012', 'GW151226', 'GW170104', 'GW170608', 'GW170729', 'GW170809', 'GW170814', 'GW170817', 'GW170818', 'GW170823', 'GWTC-1-confident', 'GWTC-1-marginal', 'O1', 'O1_16KHZ', 'O2_16KHZ_R1', 'O2_4KHZ_R1', 'S5', 'S6']\n"
     ]
    }
   ],
   "source": [
    "from gwosc.datasets import find_datasets #导入模块\n",
    "gwsets = find_datasets()\n",
    "print(gwsets)"
   ]
  },
  {
   "cell_type": "markdown",
   "metadata": {
    "hidden": true,
    "hide_input": false
   },
   "source": [
    "还可以设置detector参数来选定指定探测器探测的的事件"
   ]
  },
  {
   "cell_type": "code",
   "execution_count": 33,
   "metadata": {
    "code_folding": [],
    "hidden": true
   },
   "outputs": [
    {
     "name": "stdout",
     "output_type": "stream",
     "text": [
      "['GW170729', 'GW170809', 'GW170814', 'GW170817', 'GW170818']\n",
      "['GW170817']\n"
     ]
    }
   ],
   "source": [
    "print(find_datasets(type=\"event\", detector=\"V1\")) #virgo\n",
    "print(find_datasets(type=\"event\", detector=\"G1\")) #GEO600"
   ]
  },
  {
   "cell_type": "markdown",
   "metadata": {
    "hidden": true
   },
   "source": [
    "`find_datasets` 也可以接受 `segment` 关键字来限制结果的GPS time:"
   ]
  },
  {
   "cell_type": "code",
   "execution_count": 35,
   "metadata": {
    "hidden": true
   },
   "outputs": [
    {
     "name": "stdout",
     "output_type": "stream",
     "text": [
      "['161202', '161217', '170208', '170219', '170405', '170412', '170423', '170616', '170630', '170705', '170720', 'GW170104', 'GW170608', 'GW170729', 'GW170809', 'GW170814', 'GW170817', 'GW170818', 'GW170823']\n"
     ]
    }
   ],
   "source": [
    "print(find_datasets(type=\"event\", detector=\"L1\", segment=(1164556817, 1187733618)))"
   ]
  },
  {
   "cell_type": "markdown",
   "metadata": {
    "heading_collapsed": true,
    "hidden": true
   },
   "source": [
    "### gwosc.datasets.event_gps\n",
    "\n",
    "`gwosc.datasets.event_gps` 对于开放数据中的给定引力波事件返回其GPS时间"
   ]
  },
  {
   "cell_type": "markdown",
   "metadata": {
    "hidden": true
   },
   "source": [
    "**说明**\n",
    "\n",
    "```python\n",
    "event_gps(event, host='https://www.gw-openscience.org')\n",
    "    Returns the GPS time of an open-data event\n",
    "    \n",
    "    Parameters\n",
    "    ----------\n",
    "    event : `str`\n",
    "        the name of the event to query\n",
    "    \n",
    "    host : `str`, optional\n",
    "        the URL of the LOSC host to query, defaults to losc.ligo.org\n",
    "    \n",
    "    Returns\n",
    "    -------\n",
    "    gps : `float`\n",
    "        the GPS time of this event\n",
    "     \n",
    "```"
   ]
  },
  {
   "cell_type": "markdown",
   "metadata": {
    "heading_collapsed": true,
    "hidden": true
   },
   "source": [
    "#### 例子"
   ]
  },
  {
   "cell_type": "code",
   "execution_count": 67,
   "metadata": {
    "hidden": true
   },
   "outputs": [
    {
     "name": "stdout",
     "output_type": "stream",
     "text": [
      "1187008882.4\n"
     ]
    }
   ],
   "source": [
    "from gwosc.datasets import event_gps\n",
    "gps = event_gps('GW170817')\n",
    "print(gps)"
   ]
  },
  {
   "cell_type": "markdown",
   "metadata": {
    "hidden": true
   },
   "source": [
    "<div class=\"alert alert-info\">返回的时间都是GPS时间，是从世界时1980年1月6日午夜(00:00)开始的秒数. GWOSC 提供了一个 <a href=\"https://www.gw-openscience.org/gps/\">GPS 时间转换器</a> 你可以进行GPS时间和世界时的转换，或者你也可以用 <a href=\"https://gwpy.github.io/docs/stable/time/\"><code>gwpy.time</code></a>.</div>"
   ]
  },
  {
   "cell_type": "markdown",
   "metadata": {
    "heading_collapsed": true,
    "hidden": true
   },
   "source": [
    "### gwosc.datasets.run_segment\n",
    "\n",
    "我们也可以用`gwosc.datasets.run_segment` 查询探测器某次运行的GPS时间段"
   ]
  },
  {
   "cell_type": "markdown",
   "metadata": {
    "hidden": true
   },
   "source": [
    "**说明**\n",
    "```python\n",
    "run_segment(run, host='https://www.gw-openscience.org')\n",
    "    Returns the GPS ``[start, stop)`` interval covered by a run dataset\n",
    "    \n",
    "    Parameters\n",
    "    ----------\n",
    "    event : `str`\n",
    "        the name of the event to query\n",
    "    \n",
    "    host : `str`, optional\n",
    "        the URL of the LOSC host to query, defaults to losc.ligo.org\n",
    "    \n",
    "    Returns\n",
    "    -------\n",
    "    start, end : `int`\n",
    "        the GPS ``[start, end)`` interval covered by this run dataset\n",
    "```                  "
   ]
  },
  {
   "cell_type": "markdown",
   "metadata": {
    "hidden": true
   },
   "source": [
    "#### 例子"
   ]
  },
  {
   "cell_type": "code",
   "execution_count": 65,
   "metadata": {
    "hidden": true
   },
   "outputs": [
    {
     "name": "stdout",
     "output_type": "stream",
     "text": [
      "(1126051217, 1137254417)\n"
     ]
    }
   ],
   "source": [
    "from gwosc.datasets import run_segment\n",
    "print(run_segment('O1'))"
   ]
  },
  {
   "cell_type": "markdown",
   "metadata": {
    "heading_collapsed": true
   },
   "source": [
    "## gwosc.locate\n",
    "\n",
    "`gwosc.locate` 在gwosc查找数据的网址"
   ]
  },
  {
   "cell_type": "markdown",
   "metadata": {
    "heading_collapsed": true,
    "hidden": true
   },
   "source": [
    "### gwosc.locate.get_event_urls\n",
    "\n",
    "`gwosc.locate.get_event_urls` 提供指定引力波事件的数据的网址。"
   ]
  },
  {
   "cell_type": "markdown",
   "metadata": {
    "hidden": true
   },
   "source": [
    "**说明**\n",
    "```python\n",
    "\n",
    "    get_event_urls(event, format='hdf5', sample_rate=4096, **match)\n",
    "    \n",
    "    Parameters\n",
    "    ----------\n",
    "    detector : `str`\n",
    "        the prefix of the relevant GW detector\n",
    "    dataset : `str`, `None`, optional\n",
    "        the name of the dataset to query, e.g. ``'GW150914'``\n",
    "\n",
    "    duration : `int`,`None`, optional\n",
    "        the during of the dataset\n",
    "    \n",
    "    version : `int`, `None`, optional\n",
    "        the data-release version for the selected datasets\n",
    "\n",
    "    sample_rate : `int`, optional, default : ``4096``\n",
    "        the sampling rate (Hz) of files you want to find\n",
    "\n",
    "    format : `str`, optional, default: ``'hdf5'``\n",
    "        the file format (extension) you want to find\n",
    "\n",
    "    host : `str`, optional\n",
    "        the URL of the remote LOSC server\n",
    "\n",
    "    Returns\n",
    "    -------\n",
    "    urls : `list` of `str`\n",
    "        the list of remote file URLs that contain data matching the\n",
    "        relevant parameters\n",
    "  \n",
    "```    "
   ]
  },
  {
   "cell_type": "markdown",
   "metadata": {
    "heading_collapsed": true,
    "hidden": true
   },
   "source": [
    "#### 例子"
   ]
  },
  {
   "cell_type": "markdown",
   "metadata": {
    "hidden": true
   },
   "source": [
    "例如获取GW150914的所有文件的网址"
   ]
  },
  {
   "cell_type": "code",
   "execution_count": 22,
   "metadata": {
    "hidden": true
   },
   "outputs": [
    {
     "name": "stdout",
     "output_type": "stream",
     "text": [
      "['https://www.gw-osc.org/catalog/GWTC-1-confident/data/GW150914/H-H1_GWOSC_4KHZ_R1-1126259447-32.hdf5', 'https://www.gw-osc.org/catalog/GWTC-1-confident/data/GW150914/L-L1_GWOSC_4KHZ_R1-1126259447-32.hdf5', 'https://www.gw-osc.org/catalog/GWTC-1-confident/data/GW150914/H-H1_GWOSC_4KHZ_R1-1126257415-4096.hdf5', 'https://www.gw-osc.org/catalog/GWTC-1-confident/data/GW150914/L-L1_GWOSC_4KHZ_R1-1126257415-4096.hdf5']\n"
     ]
    }
   ],
   "source": [
    "from gwosc.locate import get_event_urls\n",
    "urls = get_event_urls('GW150914')\n",
    "print(urls)"
   ]
  },
  {
   "cell_type": "markdown",
   "metadata": {
    "hidden": true
   },
   "source": [
    "也可以指定探测器参数，时长等参数"
   ]
  },
  {
   "cell_type": "code",
   "execution_count": 50,
   "metadata": {
    "hidden": true
   },
   "outputs": [
    {
     "name": "stdout",
     "output_type": "stream",
     "text": [
      "['https://www.gw-osc.org/catalog/GWTC-1-confident/data/GW150914/L-L1_GWOSC_4KHZ_R1-1126259447-32.hdf5']\n"
     ]
    }
   ],
   "source": [
    "urls = get_event_urls('GW150914', duration=32, detector='L1')\n",
    "print(urls)"
   ]
  }
 ],
 "metadata": {
  "hide_input": false,
  "kernelspec": {
   "display_name": "Python 3",
   "language": "python",
   "name": "python3"
  },
  "language_info": {
   "codemirror_mode": {
    "name": "ipython",
    "version": 3
   },
   "file_extension": ".py",
   "mimetype": "text/x-python",
   "name": "python",
   "nbconvert_exporter": "python",
   "pygments_lexer": "ipython3",
   "version": "3.6.5"
  },
  "latex_envs": {
   "LaTeX_envs_menu_present": true,
   "autoclose": false,
   "autocomplete": true,
   "bibliofile": "biblio.bib",
   "cite_by": "apalike",
   "current_citInitial": 1,
   "eqLabelWithNumbers": true,
   "eqNumInitial": 1,
   "hotkeys": {
    "equation": "Ctrl-E",
    "itemize": "Ctrl-I"
   },
   "labels_anchors": false,
   "latex_user_defs": false,
   "report_style_numbering": false,
   "user_envs_cfg": false
  },
  "toc": {
   "base_numbering": 1,
   "nav_menu": {},
   "number_sections": true,
   "sideBar": true,
   "skip_h1_title": false,
   "title_cell": "Table of Contents",
   "title_sidebar": "Contents",
   "toc_cell": false,
   "toc_position": {},
   "toc_section_display": true,
   "toc_window_display": false
  },
  "varInspector": {
   "cols": {
    "lenName": 16,
    "lenType": 16,
    "lenVar": 40
   },
   "kernels_config": {
    "python": {
     "delete_cmd_postfix": "",
     "delete_cmd_prefix": "del ",
     "library": "var_list.py",
     "varRefreshCmd": "print(var_dic_list())"
    },
    "r": {
     "delete_cmd_postfix": ") ",
     "delete_cmd_prefix": "rm(",
     "library": "var_list.r",
     "varRefreshCmd": "cat(var_dic_list()) "
    }
   },
   "types_to_exclude": [
    "module",
    "function",
    "builtin_function_or_method",
    "instance",
    "_Feature"
   ],
   "window_display": false
  }
 },
 "nbformat": 4,
 "nbformat_minor": 2
}
